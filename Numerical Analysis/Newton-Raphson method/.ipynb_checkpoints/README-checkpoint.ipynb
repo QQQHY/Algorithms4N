{
 "cells": [
  {
   "cell_type": "markdown",
   "metadata": {},
   "source": [
    "# 牛顿法\n",
    "\n",
    "目标函数为: $f(x) = 0$\n",
    "\n",
    "算法很简单如下:\n",
    "$$x_{n+1} = x_{n} - \\frac{f(x_n)}{f'(x_n)}$$\n",
    "\n",
    "其实是对f(x)做了泰勒展开, 用前两项来做对于f(x)的近似替代\n",
    "$$f(x) = f(x_0) + f'(x_0)(x-x_0) + \\frac{f''(x_0)}{2!}(x-x_0)+...$$\n",
    "\n",
    "即, $f(x_0) + f'(x_0)(x-x_0) = 0$\n",
    "\n",
    "故有, $x_{n+1} = x_{n} - \\frac{f(x_n)}{f'(x_n)}$\n",
    "\n",
    "\n",
    "# Newton-Raphson method\n",
    "\n",
    "Object function: $f(x) = 0$\n",
    "\n",
    "The simple but useful iteration formula:\n",
    "$$x_{n+1} = x_{n} - \\frac{f(x_n)}{f'(x_n)}$$\n",
    "\n",
    "In fact, the first two terms of the Taylor Expansion of f(x) are ultilized to make an approximately subsitution of f(x)\n",
    "$$f(x) = f(x_0) + f'(x_0)(x-x_0) + \\frac{f''(x_0)}{2!}(x-x_0)+...$$\n",
    "\n",
    "namely, $f(x_0) + f'(x_0)(x-x_0) = 0$\n",
    "\n",
    "So, $x_{n+1} = x_{n} - \\frac{f(x_n)}{f'(x_n)}$\n",
    "\n"
   ]
  }
 ],
 "metadata": {
  "kernelspec": {
   "display_name": "Python 3",
   "language": "python",
   "name": "python3"
  },
  "language_info": {
   "codemirror_mode": {
    "name": "ipython",
    "version": 3
   },
   "file_extension": ".py",
   "mimetype": "text/x-python",
   "name": "python",
   "nbconvert_exporter": "python",
   "pygments_lexer": "ipython3",
   "version": "3.6.6"
  }
 },
 "nbformat": 4,
 "nbformat_minor": 2
}
