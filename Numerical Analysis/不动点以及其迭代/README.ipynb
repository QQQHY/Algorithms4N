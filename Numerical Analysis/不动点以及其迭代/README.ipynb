{
 "cells": [
  {
   "cell_type": "markdown",
   "metadata": {},
   "source": [
    "# 不动点\n",
    "\n",
    "将原先的\n",
    "$$\n",
    "f(x) = 0\n",
    "$$\n",
    "转化成\n",
    "$$\n",
    "x = h(x)\n",
    "$$\n",
    "的方式进行求解。\n",
    "\n",
    "## 不动点的存在性定理\n",
    "\n",
    "**定理1**\n",
    "\n",
    "如果 $f(x)$ 为区间$[a, b]$上的连续函数，且满足下面两个条件：\n",
    "\n",
    "1. 压缩性：对于 $x \\in [a, b]$, $a \\leq f(x) \\leq b$\n",
    "\n",
    "2. 大L性质：存在正常数L<1, 使得，对于任意的$x, y \\in [a, b]$ 都有，\n",
    "   $$\n",
    "   |f(x) - f(y)| \\leq L|x-y|\n",
    "   $$\n",
    "\n",
    "则存在有唯一的不动点。\n",
    "\n",
    "构造$h(x) = f(x) - x$，再用连续函数的介值定理就可以证明存在性，唯一性代入就可证明。\n",
    "\n",
    "**局部收敛定理：**\n",
    "\n",
    "若有这样的不动点 $x^*$ ，如果存在有在不动点附近的某个领域，满足有$h'(x) < 1$，则迭代法：\n",
    "$$\n",
    "x_{t+1} = h(x_t)\n",
    "$$\n",
    "局部收敛。\n",
    "\n",
    "\n",
    "\n",
    "* $h'(x^*)$数值越接近0，收敛速度越快。\n",
    "* 如果对于小于n次的导数在不动点出都为0，且$h^{(n)}(x)$ 不一定为0，则称为n阶收敛\n",
    "\n"
   ]
  },
  {
   "cell_type": "markdown",
   "metadata": {},
   "source": [
    "## 举列子\n",
    "\n",
    "* 求根号数的迭代（不妨取根号3）\n",
    "\n",
    "迭代方式有很多种比如:\n",
    "\n",
    "\\begin{align}\n",
    "x^2 - 3 =& 0 \\\\\n",
    "x =& x - \\lambda (x^2 - 3)  & \\lambda  \\in [0, 1] \\\\\n",
    "x_{k+1} =& x_{k} - \\lambda (x_{k}^2 - 3)\\\\ \n",
    "\\end{align}"
   ]
  },
  {
   "cell_type": "code",
   "execution_count": 5,
   "metadata": {},
   "outputs": [
    {
     "name": "stdout",
     "output_type": "stream",
     "text": [
      "1.7320508075688772\n"
     ]
    }
   ],
   "source": [
    "x = 1\n",
    "for i in range(100):\n",
    "    x = x - 0.1 * (x ** 2 - 3)\n",
    "print(x)"
   ]
  },
  {
   "cell_type": "markdown",
   "metadata": {},
   "source": [
    "\\begin{align}\n",
    "x^2 - 3 =& 0 \\\\\n",
    "nx^2 =& (n-1)x^2 + 3 & n \\in N \\\\\n",
    "x =& \\frac{(n-1)x}{n} + \\frac{3}{nx} \\\\\n",
    "x_{k+1} =& \\frac{(n-1)x_k}{n} + \\frac{3}{nx_k}\\\\ \n",
    "\\end{align}"
   ]
  },
  {
   "cell_type": "code",
   "execution_count": 10,
   "metadata": {},
   "outputs": [
    {
     "name": "stdout",
     "output_type": "stream",
     "text": [
      "1.7320508075688772\n"
     ]
    }
   ],
   "source": [
    "x, n = 2, 2\n",
    "for i in range(100):\n",
    "    x = (n - 1) / n * x + 3 / (n * x)\n",
    "print(x)"
   ]
  },
  {
   "cell_type": "code",
   "execution_count": 12,
   "metadata": {},
   "outputs": [
    {
     "data": {
      "text/plain": [
       "1.7320508075688772"
      ]
     },
     "execution_count": 12,
     "metadata": {},
     "output_type": "execute_result"
    }
   ],
   "source": [
    "import math\n",
    "math.sqrt(3)"
   ]
  }
 ],
 "metadata": {
  "kernelspec": {
   "display_name": "Python 3",
   "language": "python",
   "name": "python3"
  },
  "language_info": {
   "codemirror_mode": {
    "name": "ipython",
    "version": 3
   },
   "file_extension": ".py",
   "mimetype": "text/x-python",
   "name": "python",
   "nbconvert_exporter": "python",
   "pygments_lexer": "ipython3",
   "version": "3.6.6"
  }
 },
 "nbformat": 4,
 "nbformat_minor": 2
}
