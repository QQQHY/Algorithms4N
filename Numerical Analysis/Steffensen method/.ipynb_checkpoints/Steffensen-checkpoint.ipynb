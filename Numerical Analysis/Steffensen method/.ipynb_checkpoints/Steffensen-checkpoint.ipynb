{
 "cells": [
  {
   "cell_type": "markdown",
   "metadata": {},
   "source": [
    "# Steffensen's method\n",
    "\n",
    "## Aitken 加速方法\n",
    "\n",
    "\n",
    "$$x_1 = \\varphi(x_0)$$\n",
    "再结合微分中值定理，有\n",
    "$$x_1 - x^* = \\varphi(x_0) - \\varphi(x^*) = \\varphi'(\\xi)(x_0 -x^*)$$\n",
    "假设$\\varphi'(\\xi)$变化不大话，再代入有，\n",
    "$$x_2 - x^* = \\varphi(x_1) - \\varphi(x^*) = \\varphi'(\\xi)(x_1 -x^*)$$\n",
    "则，消去$\\varphi'(\\xi)$后，得到，\n",
    "$$x^* = x_0 - \\frac{(x_1 - x_0)^2}{x_2 - 2x_1+x_0}$$\n",
    "\n",
    "## 斯特芬森迭代法\n",
    "\n",
    "使用了Aitken加速的不动点迭代法\n",
    "\n",
    "$$ \\left\\{\n",
    "\\begin{aligned}\n",
    "y_k = \\varphi(x_k), z_k = \\varphi(y_k) \\\\\n",
    "x_{k+1} = x_k - \\frac{(y_k - x_k)^2}{z_k - 2y_k+x_k}\n",
    "\\end{aligned}\n",
    "\\right.\n",
    "$$"
   ]
  },
  {
   "cell_type": "code",
   "execution_count": 19,
   "metadata": {},
   "outputs": [
    {
     "name": "stdout",
     "output_type": "stream",
     "text": [
      "1.7320508075688767\n"
     ]
    }
   ],
   "source": [
    "x = 1\n",
    "for i in range(5):\n",
    "    y = x - 0.1 * (x ** 2 - 3)\n",
    "    z = y - 0.1 * (y ** 2 - 3)\n",
    "    x = x - (y-x)**2 / (z-2*y+x)\n",
    "print(x)"
   ]
  },
  {
   "cell_type": "code",
   "execution_count": 5,
   "metadata": {},
   "outputs": [
    {
     "name": "stdout",
     "output_type": "stream",
     "text": [
      "1.6134805148464137\n"
     ]
    }
   ],
   "source": [
    "x = 1\n",
    "for i in range(5):\n",
    "    x = x - 0.1 * (x ** 2 - 3)\n",
    "print(x)"
   ]
  },
  {
   "cell_type": "markdown",
   "metadata": {},
   "source": [
    "## 画图"
   ]
  },
  {
   "cell_type": "code",
   "execution_count": 10,
   "metadata": {},
   "outputs": [],
   "source": [
    "%matplotlib inline\n",
    "import matplotlib.pyplot as plt"
   ]
  },
  {
   "cell_type": "code",
   "execution_count": 22,
   "metadata": {},
   "outputs": [
    {
     "name": "stdout",
     "output_type": "stream",
     "text": [
      "1.7320255043594805\n"
     ]
    },
    {
     "data": {
      "image/png": "[encoded data removed]",
      "text/plain": [
       "<Figure size 432x288 with 1 Axes>"
      ]
     },
     "metadata": {
      "needs_background": "light"
     },
     "output_type": "display_data"
    }
   ],
   "source": [
    "TIME = 5\n",
    "x = 1\n",
    "data = []\n",
    "for i in range(TIME):\n",
    "    data.append(x)\n",
    "    y = x - 0.1 * (x ** 2 - 3)\n",
    "    z = y - 0.1 * (y ** 2 - 3)\n",
    "    x = x - (y-x)**2 / (z-2*y+x)\n",
    "    \n",
    "data.append(x)\n",
    "plt.plot(data, label='stf')\n",
    "\n",
    "data = []\n",
    "x = 1\n",
    "for i in range(TIME * 5):\n",
    "    data.append(x)\n",
    "    x = x - 0.1 * (x ** 2 - 3)\n",
    "data.append(x)\n",
    "print(x)\n",
    "\n",
    "plt.plot(data, label='iter')\n",
    "\n",
    "plt.legend()\n",
    "plt.show()"
   ]
  }
 ],
 "metadata": {
  "kernelspec": {
   "display_name": "Python 3",
   "language": "python",
   "name": "python3"
  },
  "language_info": {
   "codemirror_mode": {
    "name": "ipython",
    "version": 3
   },
   "file_extension": ".py",
   "mimetype": "text/x-python",
   "name": "python",
   "nbconvert_exporter": "python",
   "pygments_lexer": "ipython3",
   "version": "3.6.6"
  }
 },
 "nbformat": 4,
 "nbformat_minor": 2
}
