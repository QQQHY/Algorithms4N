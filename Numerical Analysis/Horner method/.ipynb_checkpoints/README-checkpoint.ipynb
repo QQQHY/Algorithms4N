{
 "cells": [
  {
   "cell_type": "markdown",
   "metadata": {},
   "source": [
    "# Horner's Method\n",
    "\n",
    "which also call as QinJiuSao's Method in China, because QinJiuSao pubulished the method in 1247 while Horner pubilshed in 1819.\n",
    "\n",
    "Horner's Method is an algorithm for calculating polynomials in a computational efficient way.\n",
    "\n",
    "$$p(x) = \\sum_{i=0}^{n}a_i * x^{n-i}$$\n",
    "\n",
    "Intuitively, it seams we need $\\frac{n(n+1)}{2}$ times Multiplies and $n$ times Additons. But things chanegd if it is transformed to the follow expression.\n",
    "$$p(x) = (...(a_0x+a_1)x + a_2)...+a_{n-1})x+a_n$$\n",
    "\n",
    "Obviously, it is just a recursion defination of the previous polynomial which can be present as below.\n",
    "\n",
    "$$\n",
    "\\begin{equation}\n",
    "\\left\\{\n",
    "             \\begin{array}{lr}\n",
    "             b_0=a_0, &  \\\\\n",
    "             b_i = b_{i-1} * x^* + a_i, & i = 1,2,...,n  \n",
    "             \\end{array}\n",
    "\\right.\n",
    "\\end{equation}\n",
    "$$\n",
    "\n",
    "Evidently, it just takes $n$ times Multiplies and $n$ times Additions.\n",
    "\n",
    "# 秦九韶算法\n",
    "\n",
    "用于计算多项式，将原来的需要$n^2$的运算复杂度降低到了$n$。算法的迭代表达式如上公式。"
   ]
  }
 ],
 "metadata": {
  "kernelspec": {
   "display_name": "Python 3",
   "language": "python",
   "name": "python3"
  },
  "language_info": {
   "codemirror_mode": {
    "name": "ipython",
    "version": 3
   },
   "file_extension": ".py",
   "mimetype": "text/x-python",
   "name": "python",
   "nbconvert_exporter": "python",
   "pygments_lexer": "ipython3",
   "version": "3.6.6"
  }
 },
 "nbformat": 4,
 "nbformat_minor": 2
}
